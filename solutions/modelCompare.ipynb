{
 "cells": [
  {
   "cell_type": "code",
   "execution_count": 2,
   "metadata": {},
   "outputs": [],
   "source": [
    "from sklearn.datasets import fetch_openml\n",
    "from sklearn.preprocessing import LabelEncoder, StandardScaler\n",
    "from tensorflow.keras.utils import to_categorical\n",
    "from sklearn.model_selection import train_test_split\n",
    "import numpy as np\n",
    "seed = 0\n",
    "np.random.seed(seed)"
   ]
  },
  {
   "cell_type": "markdown",
   "metadata": {},
   "source": [
    "## Fetch the jet tagging dataset from Open ML (run this only once, this can take a while)"
   ]
  },
  {
   "cell_type": "code",
   "execution_count": 3,
   "metadata": {},
   "outputs": [],
   "source": [
    "data = fetch_openml('hls4ml_lhc_jets_hlf')\n",
    "X, y = data['data'], data['target']"
   ]
  },
  {
   "cell_type": "markdown",
   "metadata": {},
   "source": [
    "### Let's print some information about the dataset\n",
    "Print the feature names and the dataset shape"
   ]
  },
  {
   "cell_type": "code",
   "execution_count": 4,
   "metadata": {},
   "outputs": [
    {
     "name": "stdout",
     "output_type": "stream",
     "text": [
      "['zlogz', 'c1_b0_mmdt', 'c1_b1_mmdt', 'c1_b2_mmdt', 'c2_b1_mmdt', 'c2_b2_mmdt', 'd2_b1_mmdt', 'd2_b2_mmdt', 'd2_a1_b1_mmdt', 'd2_a1_b2_mmdt', 'm2_b1_mmdt', 'm2_b2_mmdt', 'n2_b1_mmdt', 'n2_b2_mmdt', 'mass_mmdt', 'multiplicity']\n",
      "(830000, 16) (830000,)\n",
      "[[-2.93512535e+00  3.83155316e-01  5.12587558e-03  8.42466834e-05\n",
      "   9.06995591e-03  1.78931368e-04  1.76944518e+00  2.12389827e+00\n",
      "   1.76944518e+00  3.08185428e-01  1.35686919e-01  8.32780078e-02\n",
      "   4.12136108e-01  2.99057871e-01  8.92688179e+00  7.50000000e+01]\n",
      " [-1.92733514e+00  2.70698756e-01  1.58540264e-03  1.13709866e-05\n",
      "   3.23237223e-03  2.91449633e-05  2.03883362e+00  2.56309891e+00\n",
      "   2.03883362e+00  2.11886495e-01  6.37285784e-02  3.63104008e-02\n",
      "   3.10216516e-01  2.26661310e-01  3.88651156e+00  3.10000000e+01]\n",
      " [-3.11214662e+00  4.58171129e-01  9.79138538e-02  2.85884105e-02\n",
      "   1.24277540e-01  3.84868123e-02  1.26925385e+00  1.34623826e+00\n",
      "   1.26925385e+00  2.46488109e-01  1.15635969e-01  7.90941268e-02\n",
      "   3.57558519e-01  2.89219588e-01  1.62144669e+02  6.10000000e+01]\n",
      " [-2.66651511e+00  4.37067598e-01  4.91220504e-02  7.97829404e-03\n",
      "   4.74766865e-02  4.80184611e-03  9.66504514e-01  6.01863742e-01\n",
      "   9.66504514e-01  1.60756409e-01  8.21964443e-02  3.33105028e-02\n",
      "   2.38870576e-01  9.45160612e-02  9.12589340e+01  3.90000000e+01]\n",
      " [-2.48484278e+00  4.28981334e-01  4.17859703e-02  6.10950543e-03\n",
      "   2.30659451e-02  1.12305430e-03  5.52002132e-01  1.83820814e-01\n",
      "   5.52002132e-01  8.43379796e-02  4.80063371e-02  1.44504104e-02\n",
      "   1.41905606e-01  3.66654508e-02  7.97257767e+01  3.50000000e+01]]\n",
      "['g' 'w' 't' 'z' 'w' 'w' 't' 'g' 'z' 'g']\n"
     ]
    }
   ],
   "source": [
    "print(data['feature_names'])\n",
    "print(X.shape, y.shape)\n",
    "print(X[:5])\n",
    "print(y[:10])"
   ]
  },
  {
   "cell_type": "markdown",
   "metadata": {},
   "source": [
    "As you saw above, the `y` target is an array of strings, e.g. \\['g', 'w',...\\] etc.\n",
    "We need to make this a \"One Hot\" encoding for the training.\n",
    "Then, split the dataset into training and validation sets"
   ]
  },
  {
   "cell_type": "code",
   "execution_count": 5,
   "metadata": {},
   "outputs": [
    {
     "name": "stdout",
     "output_type": "stream",
     "text": [
      "['g' 'q' 't' 'w' 'z']\n"
     ]
    }
   ],
   "source": [
    "le = LabelEncoder()\n",
    "le.fit(y)\n",
    "print(le.classes_)"
   ]
  },
  {
   "cell_type": "code",
   "execution_count": 6,
   "metadata": {},
   "outputs": [
    {
     "name": "stdout",
     "output_type": "stream",
     "text": [
      "[0 3 2 4 3 3 2 0 4 0]\n"
     ]
    }
   ],
   "source": [
    "yl = le.transform(y)\n",
    "print(yl[:10])"
   ]
  },
  {
   "cell_type": "code",
   "execution_count": 7,
   "metadata": {},
   "outputs": [
    {
     "name": "stdout",
     "output_type": "stream",
     "text": [
      "[[1. 0. 0. 0. 0.]\n",
      " [0. 0. 0. 1. 0.]\n",
      " [0. 0. 1. 0. 0.]\n",
      " [0. 0. 0. 0. 1.]\n",
      " [0. 0. 0. 1. 0.]\n",
      " [0. 0. 0. 1. 0.]\n",
      " [0. 0. 1. 0. 0.]\n",
      " [1. 0. 0. 0. 0.]\n",
      " [0. 0. 0. 0. 1.]\n",
      " [1. 0. 0. 0. 0.]]\n"
     ]
    }
   ],
   "source": [
    "yc = to_categorical(yl, len(le.classes_))\n",
    "print(yc[:10])"
   ]
  },
  {
   "cell_type": "code",
   "execution_count": 8,
   "metadata": {},
   "outputs": [],
   "source": [
    "X_train_val, X_test, y_train_val, y_test = train_test_split(X, yc, test_size=0.2, random_state=42)"
   ]
  },
  {
   "cell_type": "code",
   "execution_count": 9,
   "metadata": {},
   "outputs": [
    {
     "name": "stdout",
     "output_type": "stream",
     "text": [
      "setGPU: Setting GPU to: 5\n"
     ]
    }
   ],
   "source": [
    "import matplotlib.pyplot as plt\n",
    "%matplotlib inline\n",
    "from sklearn.metrics import accuracy_score\n",
    "import setGPU"
   ]
  },
  {
   "cell_type": "code",
   "execution_count": 10,
   "metadata": {},
   "outputs": [],
   "source": [
    "def History(label, h):\n",
    "    plt.plot( h.history['loss'], label ='Training Loss: {}'.format(label))\n",
    "    plt.plot( h.history['val_loss'], label = 'Validation Loss: {}'.format(label))\n",
    "    plt.plot( h.history['accuracy'], label = 'Training Accuracy: {}'.format(label))\n",
    "    plt.plot( h.history['val_accuracy'], label = 'Validation Accuracy: {}'.format(label))\n",
    "    plt.legend()\n",
    "    plt.show()"
   ]
  },
  {
   "cell_type": "code",
   "execution_count": 11,
   "metadata": {},
   "outputs": [],
   "source": [
    "def Accuracy(m):\n",
    "    pred = m.predict( X_test)\n",
    "    a = accuracy_score(np.argmax(y_test, axis=1), np.argmax(pred, axis=1))\n",
    "    print(\"Accuracy: {}: {}\".format(m.name, a))\n",
    "    return pred, a"
   ]
  },
  {
   "cell_type": "markdown",
   "metadata": {},
   "source": [
    "## Construct a simple dense model"
   ]
  },
  {
   "cell_type": "markdown",
   "metadata": {},
   "source": [
    "We'll use 3 hidden layers with 32, then 64, then 64 neurons. Each layer will use `relu` activation.\n",
    "Add an output layer with 5 neurons (one for each class), then finish with Softmax activation."
   ]
  },
  {
   "cell_type": "code",
   "execution_count": 12,
   "metadata": {},
   "outputs": [],
   "source": [
    "from tensorflow.keras.models import Model\n",
    "from tensorflow.keras.layers import Input,Dense, Activation, BatchNormalization, Conv1D, Dropout, Reshape, Flatten\n",
    "from tensorflow.keras.optimizers import Adam\n",
    "from tensorflow.keras.regularizers import l1"
   ]
  },
  {
   "cell_type": "code",
   "execution_count": 13,
   "metadata": {},
   "outputs": [],
   "source": [
    "i = Input(shape=(16,))\n",
    "d = Dense(32, name='fc1', activation='relu')(i)\n",
    "d = Dense(64, name='fc2', activation='relu')(d)\n",
    "d = Dense(64, name='fc3', activation='relu')(d)\n",
    "o = Dense(len(le.classes_), activation='softmax', name='output', kernel_initializer='lecun_uniform', kernel_regularizer=l1(0.0001))(d)\n",
    "model_1 = Model(inputs=i, outputs=o, name='model_DNN')"
   ]
  },
  {
   "cell_type": "code",
   "execution_count": 14,
   "metadata": {},
   "outputs": [
    {
     "name": "stdout",
     "output_type": "stream",
     "text": [
      "Model: \"model_DNN\"\n",
      "_________________________________________________________________\n",
      "Layer (type)                 Output Shape              Param #   \n",
      "=================================================================\n",
      "input_1 (InputLayer)         [(None, 16)]              0         \n",
      "_________________________________________________________________\n",
      "fc1 (Dense)                  (None, 32)                544       \n",
      "_________________________________________________________________\n",
      "fc2 (Dense)                  (None, 64)                2112      \n",
      "_________________________________________________________________\n",
      "fc3 (Dense)                  (None, 64)                4160      \n",
      "_________________________________________________________________\n",
      "output (Dense)               (None, 5)                 325       \n",
      "=================================================================\n",
      "Total params: 7,141\n",
      "Trainable params: 7,141\n",
      "Non-trainable params: 0\n",
      "_________________________________________________________________\n"
     ]
    }
   ],
   "source": [
    "model_1.summary()"
   ]
  },
  {
   "cell_type": "markdown",
   "metadata": {},
   "source": [
    "## Train the model\n",
    "We'll use Adam optimizer with categorical crossentropy loss.\n",
    "The model isn't very complex, so this should just take a few minutes even on the CPU."
   ]
  },
  {
   "cell_type": "code",
   "execution_count": 15,
   "metadata": {},
   "outputs": [],
   "source": [
    "adam = Adam(lr=0.0001)\n",
    "model_1.compile(optimizer=adam, loss=['categorical_crossentropy'], metrics=['accuracy'])"
   ]
  },
  {
   "cell_type": "code",
   "execution_count": 16,
   "metadata": {},
   "outputs": [
    {
     "name": "stdout",
     "output_type": "stream",
     "text": [
      "Epoch 1/2\n",
      "487/487 [==============================] - 1s 3ms/step - loss: 2.4475 - accuracy: 0.3710 - val_loss: 1.3285 - val_accuracy: 0.4221\n",
      "Epoch 2/2\n",
      "487/487 [==============================] - 1s 2ms/step - loss: 1.2813 - accuracy: 0.4548 - val_loss: 1.2358 - val_accuracy: 0.4839\n"
     ]
    },
    {
     "data": {
      "text/plain": [
       "<tensorflow.python.keras.callbacks.History at 0x7f30f85027b8>"
      ]
     },
     "execution_count": 16,
     "metadata": {},
     "output_type": "execute_result"
    }
   ],
   "source": [
    "model_1.fit(X_train_val, y_train_val, batch_size=1024,\n",
    "              epochs=2, validation_split=0.25, shuffle=True)"
   ]
  },
  {
   "cell_type": "code",
   "execution_count": 17,
   "metadata": {},
   "outputs": [
    {
     "name": "stdout",
     "output_type": "stream",
     "text": [
      "Accuracy: model_DNN: 0.48327710843373495\n"
     ]
    }
   ],
   "source": [
    "y_predict_1, a_1 = Accuracy(model_1)"
   ]
  },
  {
   "cell_type": "markdown",
   "metadata": {},
   "source": [
    "## Construct a simple CNN model"
   ]
  },
  {
   "cell_type": "code",
   "execution_count": 18,
   "metadata": {},
   "outputs": [],
   "source": [
    "i = Input(shape=(16,))\n",
    "r = Reshape((16,1))(i)\n",
    "c = Conv1D(16, 3, name='cv1', activation='relu')(r)\n",
    "c = Conv1D(16, 3, name='cv2', activation='relu')(c)\n",
    "c = Conv1D(16, 3, name='cv3', activation='relu')(c)\n",
    "f = Flatten()(c)\n",
    "o = Dense(len(le.classes_), activation='softmax', name='output', kernel_initializer='lecun_uniform', kernel_regularizer=l1(0.0001))(f)\n",
    "model_2 = Model(inputs=i, outputs=o, name='model_CNN')"
   ]
  },
  {
   "cell_type": "code",
   "execution_count": 19,
   "metadata": {},
   "outputs": [
    {
     "name": "stdout",
     "output_type": "stream",
     "text": [
      "Model: \"model_CNN\"\n",
      "_________________________________________________________________\n",
      "Layer (type)                 Output Shape              Param #   \n",
      "=================================================================\n",
      "input_2 (InputLayer)         [(None, 16)]              0         \n",
      "_________________________________________________________________\n",
      "reshape (Reshape)            (None, 16, 1)             0         \n",
      "_________________________________________________________________\n",
      "cv1 (Conv1D)                 (None, 14, 16)            64        \n",
      "_________________________________________________________________\n",
      "cv2 (Conv1D)                 (None, 12, 16)            784       \n",
      "_________________________________________________________________\n",
      "cv3 (Conv1D)                 (None, 10, 16)            784       \n",
      "_________________________________________________________________\n",
      "flatten (Flatten)            (None, 160)               0         \n",
      "_________________________________________________________________\n",
      "output (Dense)               (None, 5)                 805       \n",
      "=================================================================\n",
      "Total params: 2,437\n",
      "Trainable params: 2,437\n",
      "Non-trainable params: 0\n",
      "_________________________________________________________________\n"
     ]
    }
   ],
   "source": [
    "model_2.summary()"
   ]
  },
  {
   "cell_type": "markdown",
   "metadata": {},
   "source": [
    "## Train the model\n",
    "We'll use Adam optimizer with categorical crossentropy loss.\n",
    "The model isn't very complex, so this should just take a few minutes even on the CPU."
   ]
  },
  {
   "cell_type": "code",
   "execution_count": 20,
   "metadata": {},
   "outputs": [],
   "source": [
    "adam = Adam(lr=0.0001)\n",
    "model_2.compile(optimizer=adam, loss=['categorical_crossentropy'], metrics=['accuracy'])"
   ]
  },
  {
   "cell_type": "code",
   "execution_count": 21,
   "metadata": {},
   "outputs": [
    {
     "name": "stdout",
     "output_type": "stream",
     "text": [
      "Epoch 1/2\n",
      "487/487 [==============================] - 2s 3ms/step - loss: 1.4545 - accuracy: 0.3499 - val_loss: 1.2924 - val_accuracy: 0.4698\n",
      "Epoch 2/2\n",
      "487/487 [==============================] - 1s 3ms/step - loss: 1.2068 - accuracy: 0.5443 - val_loss: 1.1493 - val_accuracy: 0.5646\n"
     ]
    },
    {
     "data": {
      "text/plain": [
       "<tensorflow.python.keras.callbacks.History at 0x7f30f8235c18>"
      ]
     },
     "execution_count": 21,
     "metadata": {},
     "output_type": "execute_result"
    }
   ],
   "source": [
    "model_2.fit(X_train_val, y_train_val, batch_size=1024,\n",
    "              epochs=2, validation_split=0.25, shuffle=True)"
   ]
  },
  {
   "cell_type": "code",
   "execution_count": 22,
   "metadata": {},
   "outputs": [
    {
     "name": "stdout",
     "output_type": "stream",
     "text": [
      "Accuracy: model_CNN: 0.5649156626506024\n"
     ]
    }
   ],
   "source": [
    "y_predict_2, a_2 = Accuracy(model_2)"
   ]
  },
  {
   "cell_type": "markdown",
   "metadata": {},
   "source": [
    "## What is the best model then ?"
   ]
  },
  {
   "cell_type": "code",
   "execution_count": 23,
   "metadata": {},
   "outputs": [
    {
     "name": "stdout",
     "output_type": "stream",
     "text": [
      "the best model is: model_CNN\n"
     ]
    }
   ],
   "source": [
    "print(\"the best model is: {}\".format(model_1.name if a_1 > a_2 else model_2.name))"
   ]
  },
  {
   "cell_type": "code",
   "execution_count": 24,
   "metadata": {},
   "outputs": [],
   "source": [
    "more_epochs=40"
   ]
  },
  {
   "cell_type": "code",
   "execution_count": 25,
   "metadata": {},
   "outputs": [
    {
     "name": "stdout",
     "output_type": "stream",
     "text": [
      "Epoch 1/40\n",
      "487/487 [==============================] - 1s 2ms/step - loss: 1.1878 - accuracy: 0.5398 - val_loss: 1.1492 - val_accuracy: 0.5763\n",
      "Epoch 2/40\n",
      "487/487 [==============================] - 1s 2ms/step - loss: 1.1173 - accuracy: 0.5922 - val_loss: 1.0971 - val_accuracy: 0.5913\n",
      "Epoch 3/40\n",
      "487/487 [==============================] - 1s 2ms/step - loss: 1.0700 - accuracy: 0.6073 - val_loss: 1.0551 - val_accuracy: 0.6171\n",
      "Epoch 4/40\n",
      "487/487 [==============================] - 1s 2ms/step - loss: 1.0370 - accuracy: 0.6219 - val_loss: 1.0295 - val_accuracy: 0.6216\n",
      "Epoch 5/40\n",
      "487/487 [==============================] - 1s 2ms/step - loss: 1.0141 - accuracy: 0.6346 - val_loss: 1.0116 - val_accuracy: 0.6357\n",
      "Epoch 6/40\n",
      "487/487 [==============================] - 1s 2ms/step - loss: 0.9974 - accuracy: 0.6429 - val_loss: 0.9947 - val_accuracy: 0.6481\n",
      "Epoch 7/40\n",
      "487/487 [==============================] - 1s 2ms/step - loss: 0.9848 - accuracy: 0.6494 - val_loss: 0.9852 - val_accuracy: 0.6518\n",
      "Epoch 8/40\n",
      "487/487 [==============================] - 1s 2ms/step - loss: 0.9749 - accuracy: 0.6538 - val_loss: 0.9747 - val_accuracy: 0.6565\n",
      "Epoch 9/40\n",
      "487/487 [==============================] - 1s 2ms/step - loss: 0.9658 - accuracy: 0.6584 - val_loss: 0.9666 - val_accuracy: 0.6603\n",
      "Epoch 10/40\n",
      "487/487 [==============================] - 1s 2ms/step - loss: 0.9583 - accuracy: 0.6617 - val_loss: 0.9595 - val_accuracy: 0.6617\n",
      "Epoch 11/40\n",
      "487/487 [==============================] - 1s 2ms/step - loss: 0.9509 - accuracy: 0.6643 - val_loss: 0.9522 - val_accuracy: 0.6666\n",
      "Epoch 12/40\n",
      "487/487 [==============================] - 1s 2ms/step - loss: 0.9445 - accuracy: 0.6672 - val_loss: 0.9460 - val_accuracy: 0.6695\n",
      "Epoch 13/40\n",
      "487/487 [==============================] - 1s 2ms/step - loss: 0.9384 - accuracy: 0.6699 - val_loss: 0.9409 - val_accuracy: 0.6714\n",
      "Epoch 14/40\n",
      "487/487 [==============================] - 1s 2ms/step - loss: 0.9321 - accuracy: 0.6728 - val_loss: 0.9356 - val_accuracy: 0.6737\n",
      "Epoch 15/40\n",
      "487/487 [==============================] - 1s 2ms/step - loss: 0.9265 - accuracy: 0.6755 - val_loss: 0.9292 - val_accuracy: 0.6762\n",
      "Epoch 16/40\n",
      "487/487 [==============================] - 1s 2ms/step - loss: 0.9211 - accuracy: 0.6775 - val_loss: 0.9239 - val_accuracy: 0.6797\n",
      "Epoch 17/40\n",
      "487/487 [==============================] - 1s 2ms/step - loss: 0.9156 - accuracy: 0.6804 - val_loss: 0.9181 - val_accuracy: 0.6808\n",
      "Epoch 18/40\n",
      "487/487 [==============================] - 1s 2ms/step - loss: 0.9105 - accuracy: 0.6827 - val_loss: 0.9179 - val_accuracy: 0.6799\n",
      "Epoch 19/40\n",
      "487/487 [==============================] - 1s 2ms/step - loss: 0.9054 - accuracy: 0.6850 - val_loss: 0.9071 - val_accuracy: 0.6872\n",
      "Epoch 20/40\n",
      "487/487 [==============================] - 1s 2ms/step - loss: 0.9002 - accuracy: 0.6875 - val_loss: 0.9038 - val_accuracy: 0.6876\n",
      "Epoch 21/40\n",
      "487/487 [==============================] - 1s 2ms/step - loss: 0.8948 - accuracy: 0.6903 - val_loss: 0.8989 - val_accuracy: 0.6909\n",
      "Epoch 22/40\n",
      "487/487 [==============================] - 1s 2ms/step - loss: 0.8901 - accuracy: 0.6922 - val_loss: 0.8924 - val_accuracy: 0.6939\n",
      "Epoch 23/40\n",
      "487/487 [==============================] - 1s 2ms/step - loss: 0.8849 - accuracy: 0.6946 - val_loss: 0.8880 - val_accuracy: 0.6959\n",
      "Epoch 24/40\n",
      "487/487 [==============================] - 1s 2ms/step - loss: 0.8799 - accuracy: 0.6969 - val_loss: 0.8822 - val_accuracy: 0.6973\n",
      "Epoch 25/40\n",
      "487/487 [==============================] - 1s 2ms/step - loss: 0.8753 - accuracy: 0.6988 - val_loss: 0.8775 - val_accuracy: 0.6994\n",
      "Epoch 26/40\n",
      "487/487 [==============================] - 1s 2ms/step - loss: 0.8708 - accuracy: 0.7009 - val_loss: 0.8725 - val_accuracy: 0.7014\n",
      "Epoch 27/40\n",
      "487/487 [==============================] - 1s 2ms/step - loss: 0.8660 - accuracy: 0.7031 - val_loss: 0.8679 - val_accuracy: 0.7037\n",
      "Epoch 28/40\n",
      "487/487 [==============================] - 1s 2ms/step - loss: 0.8617 - accuracy: 0.7049 - val_loss: 0.8645 - val_accuracy: 0.7048\n",
      "Epoch 29/40\n",
      "487/487 [==============================] - 1s 2ms/step - loss: 0.8575 - accuracy: 0.7063 - val_loss: 0.8600 - val_accuracy: 0.7078\n",
      "Epoch 30/40\n",
      "487/487 [==============================] - 1s 2ms/step - loss: 0.8535 - accuracy: 0.7080 - val_loss: 0.8547 - val_accuracy: 0.7091\n",
      "Epoch 31/40\n",
      "487/487 [==============================] - 1s 2ms/step - loss: 0.8495 - accuracy: 0.7096 - val_loss: 0.8527 - val_accuracy: 0.7089\n",
      "Epoch 32/40\n",
      "487/487 [==============================] - 1s 2ms/step - loss: 0.8464 - accuracy: 0.7105 - val_loss: 0.8497 - val_accuracy: 0.7122\n",
      "Epoch 33/40\n",
      "487/487 [==============================] - 1s 2ms/step - loss: 0.8423 - accuracy: 0.7119 - val_loss: 0.8446 - val_accuracy: 0.7130\n",
      "Epoch 34/40\n",
      "487/487 [==============================] - 1s 2ms/step - loss: 0.8393 - accuracy: 0.7128 - val_loss: 0.8422 - val_accuracy: 0.7148\n",
      "Epoch 35/40\n",
      "487/487 [==============================] - 1s 2ms/step - loss: 0.8356 - accuracy: 0.7141 - val_loss: 0.8377 - val_accuracy: 0.7144\n",
      "Epoch 36/40\n",
      "487/487 [==============================] - 1s 2ms/step - loss: 0.8325 - accuracy: 0.7151 - val_loss: 0.8349 - val_accuracy: 0.7159\n",
      "Epoch 37/40\n",
      "487/487 [==============================] - 1s 2ms/step - loss: 0.8298 - accuracy: 0.7159 - val_loss: 0.8342 - val_accuracy: 0.7134\n",
      "Epoch 38/40\n",
      "487/487 [==============================] - 1s 2ms/step - loss: 0.8271 - accuracy: 0.7165 - val_loss: 0.8315 - val_accuracy: 0.7141\n",
      "Epoch 39/40\n",
      "487/487 [==============================] - 1s 2ms/step - loss: 0.8242 - accuracy: 0.7175 - val_loss: 0.8299 - val_accuracy: 0.7174\n",
      "Epoch 40/40\n",
      "487/487 [==============================] - 1s 2ms/step - loss: 0.8220 - accuracy: 0.7180 - val_loss: 0.8259 - val_accuracy: 0.7193\n"
     ]
    }
   ],
   "source": [
    "history_1 = model_1.fit(X_train_val, y_train_val, batch_size=1024,\n",
    "              epochs=more_epochs, validation_split=0.25, shuffle=True)"
   ]
  },
  {
   "cell_type": "code",
   "execution_count": 26,
   "metadata": {},
   "outputs": [
    {
     "name": "stdout",
     "output_type": "stream",
     "text": [
      "Epoch 1/40\n",
      "487/487 [==============================] - 2s 3ms/step - loss: 1.1199 - accuracy: 0.5895 - val_loss: 1.1046 - val_accuracy: 0.6164\n",
      "Epoch 2/40\n",
      "487/487 [==============================] - 1s 3ms/step - loss: 1.0906 - accuracy: 0.6252 - val_loss: 1.0849 - val_accuracy: 0.6396\n",
      "Epoch 3/40\n",
      "487/487 [==============================] - 1s 3ms/step - loss: 1.0724 - accuracy: 0.6449 - val_loss: 1.0668 - val_accuracy: 0.6511\n",
      "Epoch 4/40\n",
      "487/487 [==============================] - 1s 3ms/step - loss: 1.0515 - accuracy: 0.6572 - val_loss: 1.0430 - val_accuracy: 0.6670\n",
      "Epoch 5/40\n",
      "487/487 [==============================] - 1s 3ms/step - loss: 1.0278 - accuracy: 0.6720 - val_loss: 1.0220 - val_accuracy: 0.6764\n",
      "Epoch 6/40\n",
      "487/487 [==============================] - 1s 3ms/step - loss: 1.0082 - accuracy: 0.6819 - val_loss: 1.0040 - val_accuracy: 0.6848\n",
      "Epoch 7/40\n",
      "487/487 [==============================] - 1s 3ms/step - loss: 0.9919 - accuracy: 0.6889 - val_loss: 0.9896 - val_accuracy: 0.6909\n",
      "Epoch 8/40\n",
      "487/487 [==============================] - 2s 3ms/step - loss: 0.9782 - accuracy: 0.6930 - val_loss: 0.9769 - val_accuracy: 0.6944\n",
      "Epoch 9/40\n",
      "487/487 [==============================] - 1s 3ms/step - loss: 0.9661 - accuracy: 0.6963 - val_loss: 0.9649 - val_accuracy: 0.6965\n",
      "Epoch 10/40\n",
      "487/487 [==============================] - 1s 3ms/step - loss: 0.9533 - accuracy: 0.6992 - val_loss: 0.9532 - val_accuracy: 0.7003\n",
      "Epoch 11/40\n",
      "487/487 [==============================] - 1s 3ms/step - loss: 0.9414 - accuracy: 0.7014 - val_loss: 0.9409 - val_accuracy: 0.7016\n",
      "Epoch 12/40\n",
      "487/487 [==============================] - 1s 3ms/step - loss: 0.9305 - accuracy: 0.7034 - val_loss: 0.9315 - val_accuracy: 0.7031\n",
      "Epoch 13/40\n",
      "487/487 [==============================] - 1s 3ms/step - loss: 0.9210 - accuracy: 0.7051 - val_loss: 0.9219 - val_accuracy: 0.7046\n",
      "Epoch 14/40\n",
      "487/487 [==============================] - 1s 3ms/step - loss: 0.9128 - accuracy: 0.7066 - val_loss: 0.9142 - val_accuracy: 0.7067\n",
      "Epoch 15/40\n",
      "487/487 [==============================] - 1s 3ms/step - loss: 0.9051 - accuracy: 0.7079 - val_loss: 0.9088 - val_accuracy: 0.7091\n",
      "Epoch 16/40\n",
      "487/487 [==============================] - 1s 3ms/step - loss: 0.8985 - accuracy: 0.7090 - val_loss: 0.9025 - val_accuracy: 0.7096\n",
      "Epoch 17/40\n",
      "487/487 [==============================] - 1s 3ms/step - loss: 0.8929 - accuracy: 0.7104 - val_loss: 0.8961 - val_accuracy: 0.7113\n",
      "Epoch 18/40\n",
      "487/487 [==============================] - 1s 3ms/step - loss: 0.8877 - accuracy: 0.7110 - val_loss: 0.8939 - val_accuracy: 0.7118\n",
      "Epoch 19/40\n",
      "487/487 [==============================] - 1s 3ms/step - loss: 0.8831 - accuracy: 0.7118 - val_loss: 0.8871 - val_accuracy: 0.7113\n",
      "Epoch 20/40\n",
      "487/487 [==============================] - 1s 3ms/step - loss: 0.8791 - accuracy: 0.7123 - val_loss: 0.8841 - val_accuracy: 0.7126\n",
      "Epoch 21/40\n",
      "487/487 [==============================] - 1s 3ms/step - loss: 0.8751 - accuracy: 0.7128 - val_loss: 0.8795 - val_accuracy: 0.7128\n",
      "Epoch 22/40\n",
      "487/487 [==============================] - 1s 3ms/step - loss: 0.8717 - accuracy: 0.7135 - val_loss: 0.8766 - val_accuracy: 0.7124\n",
      "Epoch 23/40\n",
      "487/487 [==============================] - 1s 3ms/step - loss: 0.8687 - accuracy: 0.7135 - val_loss: 0.8746 - val_accuracy: 0.7131\n",
      "Epoch 24/40\n",
      "487/487 [==============================] - 1s 3ms/step - loss: 0.8656 - accuracy: 0.7144 - val_loss: 0.8710 - val_accuracy: 0.7144\n",
      "Epoch 25/40\n",
      "487/487 [==============================] - 1s 3ms/step - loss: 0.8629 - accuracy: 0.7149 - val_loss: 0.8688 - val_accuracy: 0.7150\n",
      "Epoch 26/40\n",
      "487/487 [==============================] - 1s 3ms/step - loss: 0.8605 - accuracy: 0.7151 - val_loss: 0.8658 - val_accuracy: 0.7152\n",
      "Epoch 27/40\n",
      "487/487 [==============================] - 1s 3ms/step - loss: 0.8582 - accuracy: 0.7154 - val_loss: 0.8640 - val_accuracy: 0.7151\n",
      "Epoch 28/40\n",
      "487/487 [==============================] - 1s 3ms/step - loss: 0.8559 - accuracy: 0.7158 - val_loss: 0.8630 - val_accuracy: 0.7137\n",
      "Epoch 29/40\n",
      "487/487 [==============================] - 1s 3ms/step - loss: 0.8538 - accuracy: 0.7158 - val_loss: 0.8605 - val_accuracy: 0.7162\n",
      "Epoch 30/40\n",
      "487/487 [==============================] - 1s 3ms/step - loss: 0.8518 - accuracy: 0.7162 - val_loss: 0.8585 - val_accuracy: 0.7150\n",
      "Epoch 31/40\n",
      "487/487 [==============================] - 1s 3ms/step - loss: 0.8500 - accuracy: 0.7164 - val_loss: 0.8553 - val_accuracy: 0.7161\n",
      "Epoch 32/40\n",
      "487/487 [==============================] - 1s 3ms/step - loss: 0.8477 - accuracy: 0.7167 - val_loss: 0.8542 - val_accuracy: 0.7156\n",
      "Epoch 33/40\n",
      "487/487 [==============================] - 1s 3ms/step - loss: 0.8460 - accuracy: 0.7169 - val_loss: 0.8517 - val_accuracy: 0.7166\n",
      "Epoch 34/40\n",
      "487/487 [==============================] - 1s 3ms/step - loss: 0.8445 - accuracy: 0.7169 - val_loss: 0.8512 - val_accuracy: 0.7159\n",
      "Epoch 35/40\n",
      "487/487 [==============================] - 2s 3ms/step - loss: 0.8421 - accuracy: 0.7170 - val_loss: 0.8488 - val_accuracy: 0.7161\n",
      "Epoch 36/40\n",
      "487/487 [==============================] - 1s 3ms/step - loss: 0.8403 - accuracy: 0.7173 - val_loss: 0.8462 - val_accuracy: 0.7162\n",
      "Epoch 37/40\n",
      "487/487 [==============================] - 1s 3ms/step - loss: 0.8385 - accuracy: 0.7175 - val_loss: 0.8477 - val_accuracy: 0.7151\n",
      "Epoch 38/40\n",
      "487/487 [==============================] - 1s 3ms/step - loss: 0.8369 - accuracy: 0.7176 - val_loss: 0.8422 - val_accuracy: 0.7178\n",
      "Epoch 39/40\n",
      "487/487 [==============================] - 1s 3ms/step - loss: 0.8355 - accuracy: 0.7178 - val_loss: 0.8427 - val_accuracy: 0.7184\n",
      "Epoch 40/40\n",
      "487/487 [==============================] - 1s 3ms/step - loss: 0.8338 - accuracy: 0.7179 - val_loss: 0.8388 - val_accuracy: 0.7176\n"
     ]
    }
   ],
   "source": [
    "history_2 = model_2.fit(X_train_val, y_train_val, batch_size=1024,\n",
    "              epochs=more_epochs, validation_split=0.25, shuffle=True)"
   ]
  },
  {
   "cell_type": "code",
   "execution_count": 27,
   "metadata": {},
   "outputs": [
    {
     "name": "stdout",
     "output_type": "stream",
     "text": [
      "Accuracy: model_DNN: 0.7174819277108434\n"
     ]
    }
   ],
   "source": [
    "y_predict_1_last, a_1_last = Accuracy(model_1)"
   ]
  },
  {
   "cell_type": "code",
   "execution_count": 28,
   "metadata": {},
   "outputs": [
    {
     "name": "stdout",
     "output_type": "stream",
     "text": [
      "Accuracy: model_CNN: 0.7159939759036145\n"
     ]
    }
   ],
   "source": [
    "y_predict_2_last, a_2_last = Accuracy(model_2)"
   ]
  },
  {
   "cell_type": "code",
   "execution_count": 29,
   "metadata": {},
   "outputs": [
    {
     "data": {
      "image/png": "[encoded data removed]",
      "text/plain": [
       "<Figure size 432x288 with 1 Axes>"
      ]
     },
     "metadata": {
      "needs_background": "light"
     },
     "output_type": "display_data"
    }
   ],
   "source": [
    "History(model_1.name, history_1)"
   ]
  },
  {
   "cell_type": "code",
   "execution_count": 30,
   "metadata": {},
   "outputs": [
    {
     "data": {
      "image/png": "[encoded data removed]",
      "text/plain": [
       "<Figure size 432x288 with 1 Axes>"
      ]
     },
     "metadata": {
      "needs_background": "light"
     },
     "output_type": "display_data"
    }
   ],
   "source": [
    "History(model_2.name, history_2)"
   ]
  },
  {
   "cell_type": "code",
   "execution_count": 31,
   "metadata": {},
   "outputs": [
    {
     "data": {
      "image/png": "[encoded data removed]",
      "text/plain": [
       "<Figure size 432x288 with 1 Axes>"
      ]
     },
     "metadata": {
      "needs_background": "light"
     },
     "output_type": "display_data"
    }
   ],
   "source": [
    "plt.plot( history_1.history['val_accuracy'], label = 'Validation Accuracy: model DNN')\n",
    "plt.plot( history_2.history['val_accuracy'], label = 'Validation Accuracy: model CNN')\n",
    "plt.legend()\n",
    "plt.show()"
   ]
  },
  {
   "cell_type": "markdown",
   "metadata": {},
   "source": [
    "Has the conclusion changed ?"
   ]
  },
  {
   "cell_type": "code",
   "execution_count": 32,
   "metadata": {},
   "outputs": [
    {
     "name": "stdout",
     "output_type": "stream",
     "text": [
      "the best model is: model_DNN\n"
     ]
    }
   ],
   "source": [
    "print(\"the best model is: {}\".format(model_1.name if a_1_last > a_2_last else model_2.name))"
   ]
  },
  {
   "cell_type": "code",
   "execution_count": null,
   "metadata": {},
   "outputs": [],
   "source": []
  },
  {
   "cell_type": "code",
   "execution_count": null,
   "metadata": {},
   "outputs": [],
   "source": []
  }
 ],
 "metadata": {
  "kernelspec": {
   "display_name": "Python 3",
   "language": "python",
   "name": "python3"
  },
  "language_info": {
   "codemirror_mode": {
    "name": "ipython",
    "version": 3
   },
   "file_extension": ".py",
   "mimetype": "text/x-python",
   "name": "python",
   "nbconvert_exporter": "python",
   "pygments_lexer": "ipython3",
   "version": "3.6.8"
  }
 },
 "nbformat": 4,
 "nbformat_minor": 4
}
